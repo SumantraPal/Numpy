{
 "cells": [
  {
   "cell_type": "markdown",
   "metadata": {
    "colab_type": "text",
    "id": "HHEofVKhbKOJ"
   },
   "source": [
    "Let me tell you a story, Once a statistician was lost in a jungle. It was pitch dark. Nothing could be seen around. The statistician was afraid but he kept moving. Suddenly, he saw a small house. He went there and knocked on the door. Someone opened the door. \n",
    "\n",
    "Guess what was the first question that came out of the statistician's mouth...\n",
    "\n",
    "Bhaiya, yahan kahin aas paas Normal Distribution milega?\n",
    "\n",
    "That's how important Normal distribution is in a Statistician's (read, Data Analyst) life. Whenever a statistician is lost in an analysis, his/her first response is to reach or find a normal distribution somewhere. \n",
    "\n",
    "![alt text](https://media2.giphy.com/media/maIEBUU5OmrMA/source.gif)\n",
    "\n",
    "Although, we are going to study Normal Distribution in future episodes:). Today I want you to get a feel of the Normal/Gaussian Distribution."
   ]
  },
  {
   "cell_type": "markdown",
   "metadata": {
    "colab_type": "text",
    "id": "udWaNZcNehRo"
   },
   "source": [
    "In a normal distribution, there are 2 things of utmost importance, Mean and the Standard Deviation. ([Read more about Normal Distribution here](https://en.wikipedia.org/wiki/Normal_distribution)).\n",
    "\n",
    "I want you to create a function which takes 2 inputs - the Mean and Standard Deviation and prints out the graph of the Normal Distribution (also known as PDF, you will find the formula in the wiki article). Assume x is given and calculate y using the pdf formula. The resultant graph would look something like this (any one of them):!\n",
    "\n",
    "![](https://upload.wikimedia.org/wikipedia/commons/thumb/7/74/Normal_Distribution_PDF.svg/340px-Normal_Distribution_PDF.svg.png)"
   ]
  },
  {
   "cell_type": "code",
   "execution_count": 194,
   "metadata": {
    "colab": {},
    "colab_type": "code",
    "id": "fhPRbXGiXaoK"
   },
   "outputs": [
    {
     "data": {
      "image/png": "[encoded data removed]",
      "text/plain": [
       "<Figure size 432x288 with 1 Axes>"
      ]
     },
     "metadata": {
      "needs_background": "light"
     },
     "output_type": "display_data"
    }
   ],
   "source": [
    "import numpy as np\n",
    "import matplotlib.pyplot as plt\n",
    "x=np.linspace(-10,10,100)\n",
    "meanValue=np.mean(x)\n",
    "sdValue=np.std(x)\n",
    "# Write function code here\n",
    "def plotter(meanValue,sdValue):\n",
    "    y=((np.exp((-(((x-meanValue)/sdValue)**2)/2))/(sdValue *(np.sqrt(2*(np.pi))))))\n",
    "    plt.plot(x,y)\n",
    "plotter(meanValue,sdValue)    \n"
   ]
  },
  {
   "cell_type": "code",
   "execution_count": 0,
   "metadata": {
    "colab": {},
    "colab_type": "code",
    "id": "p9x7LVMBgs43"
   },
   "outputs": [],
   "source": [
    "# You have write a function which takes 2 numpy array as input and returns \"Hoga\" or \"Nahi Hoga\" \n",
    "# depending on if broadcasting is possible on those two arrays"
   ]
  },
  {
   "cell_type": "code",
   "execution_count": 195,
   "metadata": {
    "colab": {},
    "colab_type": "code",
    "id": "1G3RYovHJRYj"
   },
   "outputs": [
    {
     "name": "stdout",
     "output_type": "stream",
     "text": [
      "Hoga\n"
     ]
    }
   ],
   "source": [
    "# Write your logic here\n",
    "arr1=np.arange(5)\n",
    "arr2=np.arange(20).reshape(4,5)\n",
    "def hoga_ki_nahi(arr1,arr2):\n",
    "    if((arr1.shape== arr2.shape) or (arr1.shape[0]==1 and arr1.shape[1]==arr2.shape[1]) or \n",
    "    (arr1.shape[0]==1 and arr1.shape[1]==1) or (arr1.shape[0]==arr2.shape[1])):\n",
    "        print(\"Hoga\")\n",
    "    else:\n",
    "        print(\"Nahi Hoga\")\n",
    "hoga_ki_nahi(arr1,arr2)"
   ]
  },
  {
   "cell_type": "code",
   "execution_count": 179,
   "metadata": {
    "colab": {},
    "colab_type": "code",
    "id": "HxyIWB__JUJQ"
   },
   "outputs": [
    {
     "name": "stdout",
     "output_type": "stream",
     "text": [
      "hoga\n"
     ]
    }
   ],
   "source": [
    "# Test your function here\n",
    "import numpy as np\n",
    "arr1=np.arange(5)\n",
    "arr2=np.arange(20).reshape(4,5)\n",
    "if((arr1.shape== arr2.shape) or (arr1.shape[0]==1 and arr1.shape[1]==arr2.shape[1]) or \n",
    "   (arr1.shape[0]==1 and arr1.shape[1]==1) or (arr1.shape[0]==arr2.shape[1])):\n",
    "    print(\"hoga\")\n",
    "else:\n",
    "    print(\"nhi hoga\")"
   ]
  },
  {
   "cell_type": "code",
   "execution_count": 160,
   "metadata": {},
   "outputs": [
    {
     "name": "stdout",
     "output_type": "stream",
     "text": [
      "hoga\n"
     ]
    }
   ],
   "source": [
    "import numpy as np\n",
    "arr1=np.arange(8).reshape(2,4)\n",
    "arr2=np.arange(8,16).reshape(2,4)\n",
    "if((arr1.shape== arr2.shape)):\n",
    "    print(\"hoga\")\n",
    "else:\n",
    "    print(\"nhi hoga\")"
   ]
  },
  {
   "cell_type": "code",
   "execution_count": 177,
   "metadata": {},
   "outputs": [
    {
     "name": "stdout",
     "output_type": "stream",
     "text": [
      "hoga\n"
     ]
    }
   ],
   "source": [
    "import numpy as np\n",
    "arr1=np.arange(3).reshape(1,3)\n",
    "arr2=np.arange(12).reshape(4,3)\n",
    "if( (arr1.shape[0]==1 and arr1.shape[1]==arr2.shape[1])):\n",
    "    print(\"hoga\")\n",
    "else:\n",
    "    print(\"nhi hoga\")"
   ]
  },
  {
   "cell_type": "code",
   "execution_count": 173,
   "metadata": {},
   "outputs": [
    {
     "ename": "IndexError",
     "evalue": "tuple index out of range",
     "output_type": "error",
     "traceback": [
      "\u001b[1;31m---------------------------------------------------------------------------\u001b[0m",
      "\u001b[1;31mIndexError\u001b[0m                                Traceback (most recent call last)",
      "\u001b[1;32m<ipython-input-173-2110cc273b99>\u001b[0m in \u001b[0;36m<module>\u001b[1;34m\u001b[0m\n\u001b[0;32m      2\u001b[0m \u001b[0marr1\u001b[0m\u001b[1;33m=\u001b[0m\u001b[0mnp\u001b[0m\u001b[1;33m.\u001b[0m\u001b[0marange\u001b[0m\u001b[1;33m(\u001b[0m\u001b[1;36m3\u001b[0m\u001b[1;33m)\u001b[0m\u001b[1;33m\u001b[0m\u001b[1;33m\u001b[0m\u001b[0m\n\u001b[0;32m      3\u001b[0m \u001b[0marr2\u001b[0m\u001b[1;33m=\u001b[0m\u001b[0mnp\u001b[0m\u001b[1;33m.\u001b[0m\u001b[0marange\u001b[0m\u001b[1;33m(\u001b[0m\u001b[1;36m12\u001b[0m\u001b[1;33m)\u001b[0m\u001b[1;33m.\u001b[0m\u001b[0mreshape\u001b[0m\u001b[1;33m(\u001b[0m\u001b[1;36m4\u001b[0m\u001b[1;33m,\u001b[0m\u001b[1;36m3\u001b[0m\u001b[1;33m)\u001b[0m\u001b[1;33m\u001b[0m\u001b[1;33m\u001b[0m\u001b[0m\n\u001b[1;32m----> 4\u001b[1;33m \u001b[1;32mif\u001b[0m\u001b[1;33m(\u001b[0m\u001b[1;33m(\u001b[0m\u001b[0marr1\u001b[0m\u001b[1;33m.\u001b[0m\u001b[0mshape\u001b[0m\u001b[1;33m[\u001b[0m\u001b[1;36m1\u001b[0m\u001b[1;33m]\u001b[0m\u001b[1;33m==\u001b[0m\u001b[1;36m1\u001b[0m \u001b[1;32mand\u001b[0m \u001b[0marr1\u001b[0m\u001b[1;33m.\u001b[0m\u001b[0mshape\u001b[0m\u001b[1;33m[\u001b[0m\u001b[1;36m0\u001b[0m\u001b[1;33m]\u001b[0m\u001b[1;33m==\u001b[0m\u001b[0marr2\u001b[0m\u001b[1;33m.\u001b[0m\u001b[0mshape\u001b[0m\u001b[1;33m[\u001b[0m\u001b[1;36m0\u001b[0m\u001b[1;33m]\u001b[0m\u001b[1;33m)\u001b[0m  \u001b[1;32mor\u001b[0m \u001b[1;33m(\u001b[0m\u001b[0marr1\u001b[0m\u001b[1;33m.\u001b[0m\u001b[0mshape\u001b[0m\u001b[1;33m[\u001b[0m\u001b[1;36m0\u001b[0m\u001b[1;33m]\u001b[0m\u001b[1;33m==\u001b[0m\u001b[0marr2\u001b[0m\u001b[1;33m.\u001b[0m\u001b[0mshape\u001b[0m\u001b[1;33m[\u001b[0m\u001b[1;36m1\u001b[0m\u001b[1;33m]\u001b[0m\u001b[1;33m)\u001b[0m\u001b[1;33m)\u001b[0m\u001b[1;33m:\u001b[0m\u001b[1;33m\u001b[0m\u001b[1;33m\u001b[0m\u001b[0m\n\u001b[0m\u001b[0;32m      5\u001b[0m     \u001b[0mprint\u001b[0m\u001b[1;33m(\u001b[0m\u001b[1;34m\"hoga\"\u001b[0m\u001b[1;33m)\u001b[0m\u001b[1;33m\u001b[0m\u001b[1;33m\u001b[0m\u001b[0m\n\u001b[0;32m      6\u001b[0m \u001b[1;32melse\u001b[0m\u001b[1;33m:\u001b[0m\u001b[1;33m\u001b[0m\u001b[1;33m\u001b[0m\u001b[0m\n",
      "\u001b[1;31mIndexError\u001b[0m: tuple index out of range"
     ]
    }
   ],
   "source": [
    "import numpy as np\n",
    "arr1=np.arange(3)\n",
    "arr2=np.arange(12).reshape(4,3)\n",
    "if((arr1.shape[1]==1 and arr1.shape[0]==arr2.shape[0])  or (arr1.shape[0]==arr2.shape[1])):\n",
    "    print(\"hoga\")\n",
    "else:\n",
    "    print(\"nhi hoga\")\n"
   ]
  },
  {
   "cell_type": "code",
   "execution_count": 95,
   "metadata": {},
   "outputs": [
    {
     "name": "stdout",
     "output_type": "stream",
     "text": [
      "hoga\n"
     ]
    }
   ],
   "source": [
    "import numpy as np\n",
    "arr1=np.arange(3).reshape(3,1)\n",
    "arr2=np.arange(3).reshape(1,3)\n",
    "if(arr1.shape[1]==1 and arr2.shape[0]==1 and arr1.shape[0]==arr2.shape[1]):\n",
    "    print(\"hoga\")\n",
    "else:\n",
    "    print(\"nhi hoga\")"
   ]
  },
  {
   "cell_type": "code",
   "execution_count": 142,
   "metadata": {},
   "outputs": [
    {
     "name": "stdout",
     "output_type": "stream",
     "text": [
      "hoga\n"
     ]
    }
   ],
   "source": [
    "import numpy as np\n",
    "arr1=np.arange(5)\n",
    "arr2=np.arange(20).reshape(4,5)\n",
    "if((arr1.shape[0]==1 and arr1.shape[1]==1) or (arr1.shape[0]==arr2.shape[1])):\n",
    "    print(\"hoga\")\n",
    "else:\n",
    "    print(\"nhi hoga\")"
   ]
  },
  {
   "cell_type": "code",
   "execution_count": 126,
   "metadata": {},
   "outputs": [
    {
     "name": "stdout",
     "output_type": "stream",
     "text": [
      "hoga\n"
     ]
    }
   ],
   "source": [
    "import numpy as np\n",
    "arr1=np.arange(4)\n",
    "arr2=np.arange(20).reshape(5,4)\n",
    "if(arr1.shape[0]==arr2.shape[1]):\n",
    "    print(\"hoga\")\n",
    "else:\n",
    "    print(\"nhi hoga\")"
   ]
  },
  {
   "cell_type": "code",
   "execution_count": 112,
   "metadata": {},
   "outputs": [
    {
     "data": {
      "text/plain": [
       "array([[ 0,  2,  4],\n",
       "       [ 3,  5,  7],\n",
       "       [ 6,  8, 10],\n",
       "       [ 9, 11, 13],\n",
       "       [12, 14, 16]])"
      ]
     },
     "execution_count": 112,
     "metadata": {},
     "output_type": "execute_result"
    }
   ],
   "source": [
    "arr1=np.arange(3)\n",
    "arr2=np.arange(15).reshape(5,3)\n",
    "arr1+arr2"
   ]
  },
  {
   "cell_type": "code",
   "execution_count": null,
   "metadata": {},
   "outputs": [],
   "source": []
  }
 ],
 "metadata": {
  "colab": {
   "name": "numpy-assignment-5.ipynb",
   "provenance": []
  },
  "kernelspec": {
   "display_name": "Python 3",
   "language": "python",
   "name": "python3"
  },
  "language_info": {
   "codemirror_mode": {
    "name": "ipython",
    "version": 3
   },
   "file_extension": ".py",
   "mimetype": "text/x-python",
   "name": "python",
   "nbconvert_exporter": "python",
   "pygments_lexer": "ipython3",
   "version": "3.7.4"
  }
 },
 "nbformat": 4,
 "nbformat_minor": 1
}
