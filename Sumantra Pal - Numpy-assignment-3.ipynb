{
 "cells": [
  {
   "cell_type": "code",
   "execution_count": 0,
   "metadata": {
    "colab": {},
    "colab_type": "code",
    "id": "31UwBw0bR-7I"
   },
   "outputs": [],
   "source": [
    "import numpy as np"
   ]
  },
  {
   "cell_type": "code",
   "execution_count": 3,
   "metadata": {
    "colab": {
     "base_uri": "https://localhost:8080/",
     "height": 151
    },
    "colab_type": "code",
    "executionInfo": {
     "elapsed": 4389,
     "status": "ok",
     "timestamp": 1581157958275,
     "user": {
      "displayName": "Sumantra Pal",
      "photoUrl": "",
      "userId": "09068999012667612117"
     },
     "user_tz": -330
    },
    "id": "85it8RniSD1i",
    "outputId": "858f640f-bb89-481a-a810-7e95273178e0"
   },
   "outputs": [
    {
     "data": {
      "text/plain": [
       "array([[ 0,  1,  2,  3,  4],\n",
       "       [ 5,  6,  7,  8,  9],\n",
       "       [10, 11, 12, 13, 14],\n",
       "       [15, 16, 17, 18, 19],\n",
       "       [20, 21, 22, 23, 24],\n",
       "       [25, 26, 27, 28, 29],\n",
       "       [30, 31, 32, 33, 34],\n",
       "       [35, 36, 37, 38, 39]])"
      ]
     },
     "execution_count": 3,
     "metadata": {
      "tags": []
     },
     "output_type": "execute_result"
    }
   ],
   "source": [
    "# Setup for questions 1 and 2\n",
    "arr1=np.arange(40).reshape(8,5)\n",
    "arr1"
   ]
  },
  {
   "cell_type": "code",
   "execution_count": 0,
   "metadata": {
    "colab": {},
    "colab_type": "code",
    "id": "0Nz1-qSdSOQ_"
   },
   "outputs": [],
   "source": [
    "# Q1. From arr1 you have to fetch out every alternate column starting from col1"
   ]
  },
  {
   "cell_type": "code",
   "execution_count": 4,
   "metadata": {
    "colab": {
     "base_uri": "https://localhost:8080/",
     "height": 151
    },
    "colab_type": "code",
    "executionInfo": {
     "elapsed": 2548,
     "status": "ok",
     "timestamp": 1581157962869,
     "user": {
      "displayName": "Sumantra Pal",
      "photoUrl": "",
      "userId": "09068999012667612117"
     },
     "user_tz": -330
    },
    "id": "W_Roxg0qUmi5",
    "outputId": "574c840a-7d76-4735-d890-b5c05e2b0de9"
   },
   "outputs": [
    {
     "data": {
      "text/plain": [
       "array([[ 0,  2,  4],\n",
       "       [ 5,  7,  9],\n",
       "       [10, 12, 14],\n",
       "       [15, 17, 19],\n",
       "       [20, 22, 24],\n",
       "       [25, 27, 29],\n",
       "       [30, 32, 34],\n",
       "       [35, 37, 39]])"
      ]
     },
     "execution_count": 4,
     "metadata": {
      "tags": []
     },
     "output_type": "execute_result"
    }
   ],
   "source": [
    "arr1[:,0::2]"
   ]
  },
  {
   "cell_type": "code",
   "execution_count": 0,
   "metadata": {
    "colab": {},
    "colab_type": "code",
    "id": "rwmohc2SScHo"
   },
   "outputs": [],
   "source": [
    "# Q2. From arr1 fetch an array which would contain {0,2,4} {15,17,19} and {30,32,34} "
   ]
  },
  {
   "cell_type": "code",
   "execution_count": 5,
   "metadata": {
    "colab": {
     "base_uri": "https://localhost:8080/",
     "height": 67
    },
    "colab_type": "code",
    "executionInfo": {
     "elapsed": 2977,
     "status": "ok",
     "timestamp": 1581157974312,
     "user": {
      "displayName": "Sumantra Pal",
      "photoUrl": "",
      "userId": "09068999012667612117"
     },
     "user_tz": -330
    },
    "id": "ulZu35whU3B8",
    "outputId": "d66d5b6b-361a-4d9e-de94-b38db9726ec8"
   },
   "outputs": [
    {
     "data": {
      "text/plain": [
       "array([[ 0,  2,  4],\n",
       "       [15, 17, 19],\n",
       "       [30, 32, 34]])"
      ]
     },
     "execution_count": 5,
     "metadata": {
      "tags": []
     },
     "output_type": "execute_result"
    }
   ],
   "source": [
    "arr1[0:7:3,0::2]"
   ]
  },
  {
   "cell_type": "code",
   "execution_count": 20,
   "metadata": {
    "colab": {
     "base_uri": "https://localhost:8080/",
     "height": 50
    },
    "colab_type": "code",
    "executionInfo": {
     "elapsed": 1268,
     "status": "ok",
     "timestamp": 1581162848968,
     "user": {
      "displayName": "Sumantra Pal",
      "photoUrl": "",
      "userId": "09068999012667612117"
     },
     "user_tz": -330
    },
    "id": "r1gU_dQ4SsH7",
    "outputId": "e14912a9-afe7-494c-b1c4-ae27ce31f417"
   },
   "outputs": [
    {
     "data": {
      "text/plain": [
       "array([[3135, 6627, 5737, 8638, 3685],\n",
       "       [9226,  693, 2297, 2837, 9400]])"
      ]
     },
     "execution_count": 20,
     "metadata": {
      "tags": []
     },
     "output_type": "execute_result"
    }
   ],
   "source": [
    "# Setup for question\n",
    "\n",
    "# Generating a random numpy array of intergers ranging between 1 and 100\n",
    "\n",
    "arr2=np.random.randint(low=1, high=10000, size=10).reshape(2,5)\n",
    "arr2"
   ]
  },
  {
   "cell_type": "markdown",
   "metadata": {
    "colab_type": "text",
    "id": "VL_SIR70U2So"
   },
   "source": [
    " **Normalization** rescales the values into a range of [0,1]. This might be useful in some cases where all parameters need to have the same positive scale. You have to do this a lot in machine learning for eg you are working with 2 cols, one is total runs scored by a batsman(in the scale of 1000s), and the second is number of matches played by him(in the scale of 10s). The formula for normalization is given below\n",
    "\n",
    " Xchanged=(X−Xmin)/(Xmax−Xmin)"
   ]
  },
  {
   "cell_type": "code",
   "execution_count": 0,
   "metadata": {
    "colab": {},
    "colab_type": "code",
    "id": "TI_idHqkUz48"
   },
   "outputs": [],
   "source": [
    "# Q3. Write a code to normalize arr2."
   ]
  },
  {
   "cell_type": "code",
   "execution_count": 0,
   "metadata": {
    "colab": {
     "base_uri": "https://localhost:8080/",
     "height": 35
    },
    "colab_type": "code",
    "executionInfo": {
     "elapsed": 1240,
     "status": "ok",
     "timestamp": 1569413766119,
     "user": {
      "displayName": "CampusX",
      "photoUrl": "https://lh3.googleusercontent.com/a-/AAuE7mAqesPQNOpEoMAQoXx5dZGm2aa3QN9h3l2hfcGv=s64",
      "userId": "17274569631252575216"
     },
     "user_tz": -330
    },
    "id": "GXcTZro_VXd_",
    "outputId": "c4a3018d-c8f8-4ceb-acab-dc38f7fc9042"
   },
   "outputs": [
    {
     "data": {
      "text/plain": [
       "9.75"
      ]
     },
     "execution_count": 12,
     "metadata": {
      "tags": []
     },
     "output_type": "execute_result"
    }
   ],
   "source": [
    "np.percentile(arr1,25)"
   ]
  },
  {
   "cell_type": "code",
   "execution_count": 21,
   "metadata": {
    "colab": {
     "base_uri": "https://localhost:8080/",
     "height": 50
    },
    "colab_type": "code",
    "executionInfo": {
     "elapsed": 1400,
     "status": "ok",
     "timestamp": 1581162854479,
     "user": {
      "displayName": "Sumantra Pal",
      "photoUrl": "",
      "userId": "09068999012667612117"
     },
     "user_tz": -330
    },
    "id": "jzgUb2rxWTJ1",
    "outputId": "00cd7f76-3d00-4488-a073-9bdbc1a71222"
   },
   "outputs": [
    {
     "data": {
      "text/plain": [
       "array([[0.28046399, 0.68152062, 0.57930401, 0.91248421, 0.34363156],\n",
       "       [0.98001608, 0.        , 0.18421959, 0.24623866, 1.        ]])"
      ]
     },
     "execution_count": 21,
     "metadata": {
      "tags": []
     },
     "output_type": "execute_result"
    }
   ],
   "source": [
    "def normalize(x):\n",
    "    norm = (x-x.min())/(x.max()-x.min())\n",
    "    return norm\n",
    "normalize(arr2)"
   ]
  },
  {
   "cell_type": "markdown",
   "metadata": {
    "colab_type": "text",
    "id": "cAKDoNdmW473"
   },
   "source": [
    "Missing values are a pain in the a**(sorry for language). But yes trust me."
   ]
  },
  {
   "cell_type": "code",
   "execution_count": 0,
   "metadata": {
    "colab": {},
    "colab_type": "code",
    "id": "SV9DLiXaWz9b"
   },
   "outputs": [],
   "source": [
    "# Q4. How would you check if your numpy array has some missing values?\n",
    "\n",
    "# Hint: Thoda research karo numpy me existing functions hai"
   ]
  },
  {
   "cell_type": "code",
   "execution_count": 0,
   "metadata": {
    "colab": {},
    "colab_type": "code",
    "id": "TMOPA92sps10"
   },
   "outputs": [],
   "source": [
    "arr1=np.array([12,34,40,7,1,0])"
   ]
  },
  {
   "cell_type": "code",
   "execution_count": 28,
   "metadata": {
    "colab": {
     "base_uri": "https://localhost:8080/",
     "height": 34
    },
    "colab_type": "code",
    "executionInfo": {
     "elapsed": 1122,
     "status": "ok",
     "timestamp": 1581166704751,
     "user": {
      "displayName": "Sumantra Pal",
      "photoUrl": "",
      "userId": "09068999012667612117"
     },
     "user_tz": -330
    },
    "id": "mxnuDTTtvJ14",
    "outputId": "06477b21-6883-44f0-cafc-05191636df28"
   },
   "outputs": [
    {
     "data": {
      "text/plain": [
       "array([False, False, False, False, False, False])"
      ]
     },
     "execution_count": 28,
     "metadata": {
      "tags": []
     },
     "output_type": "execute_result"
    }
   ],
   "source": [
    "np.isnan(arr1)   # isnan is used to check missing values in numpy "
   ]
  },
  {
   "cell_type": "code",
   "execution_count": 0,
   "metadata": {
    "colab": {},
    "colab_type": "code",
    "id": "WWo9EXndXLrP"
   },
   "outputs": [],
   "source": [
    "# Q5. Write a function which will accept 2 arguments.\n",
    "# First: A 1D numpy array arr\n",
    "# Second: An integer n {Please make sure n<=len(arr)}\n",
    "\n",
    "# Output: The output should be the nth largest item out of the array\n",
    "\n",
    "# Example1 : arr=(12,34,40,7,1,0) and n=3, the output should be 12\n",
    "# Example2 : arr=(12,34,40,7,1,0) and n=1, the output should be 40"
   ]
  },
  {
   "cell_type": "code",
   "execution_count": 26,
   "metadata": {
    "colab": {
     "base_uri": "https://localhost:8080/",
     "height": 34
    },
    "colab_type": "code",
    "executionInfo": {
     "elapsed": 1133,
     "status": "ok",
     "timestamp": 1581166661190,
     "user": {
      "displayName": "Sumantra Pal",
      "photoUrl": "",
      "userId": "09068999012667612117"
     },
     "user_tz": -330
    },
    "id": "aOeEUd1LYRIF",
    "outputId": "04b996d5-ec9e-41cd-bd94-1a27e76d0962"
   },
   "outputs": [
    {
     "name": "stdout",
     "output_type": "stream",
     "text": [
      "12\n"
     ]
    }
   ],
   "source": [
    "arr = [12,34,40,7,1,0]\n",
    "def klargest(arr,n):\n",
    "    arr.sort(reverse = True) \n",
    "    print (arr[n-1]) \n",
    "klargest(arr,3)"
   ]
  },
  {
   "cell_type": "code",
   "execution_count": 0,
   "metadata": {
    "colab": {},
    "colab_type": "code",
    "id": "_CRHFCAk4BdD"
   },
   "outputs": [],
   "source": []
  }
 ],
 "metadata": {
  "colab": {
   "name": "Sumantra Pal - Numpy-assignment-3.ipynb",
   "provenance": []
  },
  "kernelspec": {
   "display_name": "Python 3",
   "language": "python",
   "name": "python3"
  },
  "language_info": {
   "codemirror_mode": {
    "name": "ipython",
    "version": 3
   },
   "file_extension": ".py",
   "mimetype": "text/x-python",
   "name": "python",
   "nbconvert_exporter": "python",
   "pygments_lexer": "ipython3",
   "version": "3.7.4"
  }
 },
 "nbformat": 4,
 "nbformat_minor": 1
}
