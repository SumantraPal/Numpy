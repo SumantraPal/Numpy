{
 "cells": [
  {
   "cell_type": "code",
   "execution_count": 8,
   "metadata": {},
   "outputs": [],
   "source": [
    "import numpy as np\n",
    "def replicate():\n",
    "    lower=float(input(\"Enter lower value:\"))\n",
    "    upper=float(input(\"Enter upper value:\"))\n",
    "    item=int(input(\"Enter the number of items:\"))\n",
    "    x=upper-lower\n",
    "    y=item-1\n",
    "    z=x/y\n",
    "    i=0\n",
    "    arr=[]\n",
    "    while(1):\n",
    "        if(lower<upper):\n",
    "            i=i+1;\n",
    "            arr.insert(i,lower)\n",
    "        else:\n",
    "            break\n",
    "        val=lower+z\n",
    "        lower=val\n",
    "        print(arr)   "
   ]
  },
  {
   "cell_type": "code",
   "execution_count": 9,
   "metadata": {},
   "outputs": [
    {
     "name": "stdout",
     "output_type": "stream",
     "text": [
      "Enter lower value:1\n",
      "Enter upper value:10\n",
      "Enter the number of items:5\n",
      "[1.0]\n",
      "[1.0, 3.25]\n",
      "[1.0, 3.25, 5.5]\n",
      "[1.0, 3.25, 5.5, 7.75]\n"
     ]
    }
   ],
   "source": [
    "replicate()"
   ]
  },
  {
   "cell_type": "code",
   "execution_count": null,
   "metadata": {},
   "outputs": [],
   "source": []
  }
 ],
 "metadata": {
  "kernelspec": {
   "display_name": "Python 3",
   "language": "python",
   "name": "python3"
  },
  "language_info": {
   "codemirror_mode": {
    "name": "ipython",
    "version": 3
   },
   "file_extension": ".py",
   "mimetype": "text/x-python",
   "name": "python",
   "nbconvert_exporter": "python",
   "pygments_lexer": "ipython3",
   "version": "3.7.4"
  }
 },
 "nbformat": 4,
 "nbformat_minor": 2
}
